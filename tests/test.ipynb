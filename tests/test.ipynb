{
 "cells": [
  {
   "cell_type": "code",
   "execution_count": null,
   "metadata": {},
   "outputs": [],
   "source": [
    "import random\n",
    "from copy import deepcopy"
   ]
  },
  {
   "cell_type": "code",
   "execution_count": null,
   "metadata": {},
   "outputs": [],
   "source": [
    "perc_mut = 0.05\n",
    "\n",
    "selected = []\n",
    "for i in range(1000000):\n",
    "\tif random.random() < perc_mut:\n",
    "\t\tselected.append(True)\n",
    "\n",
    "print((len(selected)/1000000) * 100)"
   ]
  },
  {
   "cell_type": "code",
   "execution_count": null,
   "metadata": {},
   "outputs": [],
   "source": [
    "len(selected)"
   ]
  },
  {
   "cell_type": "code",
   "execution_count": null,
   "metadata": {},
   "outputs": [],
   "source": [
    "ls = [\"Hello\", \"world\", \"como\", \"estas\"]\n",
    "ls[ls.index(\"como\")] = \"how\"\n",
    "\n"
   ]
  },
  {
   "cell_type": "code",
   "execution_count": null,
   "metadata": {},
   "outputs": [],
   "source": [
    "def ls_ls(mut_ls):\n",
    "\t# deepcopy is required to prevent over writing of the original subnetwork list\n",
    "\t# -- mutations are done by index updating\n",
    "\tsubnetworks = deepcopy(mut_ls)\n",
    "\tfor ls in subnetworks:\n",
    "\t\tmut_network = []\n",
    "\t\tfor idx, elm in enumerate(ls):\n",
    "\t\t\tif idx % 2 == 0:\n",
    "\t\t\t\tls[ls.index(elm)] = \"mutated\"\n",
    "\n",
    "\treturn subnetworks\n",
    "\t\t\n",
    "\t\t"
   ]
  },
  {
   "cell_type": "code",
   "execution_count": null,
   "metadata": {},
   "outputs": [],
   "source": [
    "test_ls = [[1,2,3], [4,5,6], [10, 10, 10]]\n",
    "new_ls = ls_ls(test_ls) "
   ]
  },
  {
   "cell_type": "code",
   "execution_count": null,
   "metadata": {},
   "outputs": [],
   "source": [
    "print(test_ls)"
   ]
  },
  {
   "cell_type": "code",
   "execution_count": null,
   "metadata": {},
   "outputs": [],
   "source": [
    "new_ls"
   ]
  },
  {
   "cell_type": "code",
   "execution_count": null,
   "metadata": {},
   "outputs": [],
   "source": [
    "for i in range(10000):\n",
    "\tif round(random.random(), 2) < 0.05:\n",
    "\t\tprint(\"true\")"
   ]
  },
  {
   "cell_type": "code",
   "execution_count": null,
   "metadata": {},
   "outputs": [],
   "source": [
    "ds = {\"net1\":3, \"net2\":0, \"net3\":2}\n",
    "print(type(list(ds.keys())[0]))"
   ]
  },
  {
   "cell_type": "code",
   "execution_count": null,
   "metadata": {},
   "outputs": [],
   "source": [
    "def _dict_to_list(data):\n",
    "\t\"\"\"Converts dictioanry to string\n",
    "\n",
    "\tParameters\n",
    "\t----------\n",
    "\tdata : dict\n",
    "\t\tdata containing string and int as key value pair types\n",
    "\t\n",
    "\tReturns\n",
    "\t-------\n",
    "\tlist \n",
    "\t\tlist containing string repeated with their value\n",
    "\n",
    "\tExample\n",
    "\t-------\n",
    "\t>>> ds = {\"net_1\": 2, \"net_2\": 0, \"net_3\": 1}\n",
    "\t>>> ls = _dict_to_list(ds)\n",
    "\t>>> print(ls)\n",
    "\t>>> [\"net_1\", \"net_1\", \"net_3\"]\n",
    "\t\"\"\"\n",
    "\t# Type checking \n",
    "\tif not isinstance(data, dict):\n",
    "\t\traise ValueError(\"data must be dict, {} was given\".format(type(data)))\n",
    "\t\n",
    "\tls = []\n",
    "\tfor key, value in data.items():\n",
    "\t\tkey_list = [key for i in range(value)]\n",
    "\t\t\n",
    "\t\t# update list\n",
    "\t\tls += key_list\n",
    "\treturn ls\n",
    "    "
   ]
  },
  {
   "cell_type": "code",
   "execution_count": null,
   "metadata": {},
   "outputs": [],
   "source": [
    "_dict_to_list(ds)"
   ]
  },
  {
   "cell_type": "code",
   "execution_count": null,
   "metadata": {},
   "outputs": [],
   "source": [
    "from collections import defaultdict"
   ]
  },
  {
   "cell_type": "code",
   "execution_count": null,
   "metadata": {},
   "outputs": [],
   "source": [
    "test_dict = defaultdict(lambda: None) \n",
    "for idx, value in enumerate([\"hello\", \"world\", \"k\"]):\n",
    "    test_dict[idx] = value"
   ]
  },
  {
   "cell_type": "code",
   "execution_count": null,
   "metadata": {},
   "outputs": [],
   "source": [
    "test_dict"
   ]
  },
  {
   "cell_type": "code",
   "execution_count": null,
   "metadata": {},
   "outputs": [],
   "source": [
    "x = test_dict[10]"
   ]
  },
  {
   "cell_type": "code",
   "execution_count": null,
   "metadata": {},
   "outputs": [],
   "source": [
    "print(x)"
   ]
  },
  {
   "cell_type": "code",
   "execution_count": 3,
   "metadata": {},
   "outputs": [],
   "source": [
    "import random\n",
    "from collections import Counter"
   ]
  },
  {
   "cell_type": "code",
   "execution_count": 4,
   "metadata": {},
   "outputs": [
    {
     "name": "stdout",
     "output_type": "stream",
     "text": [
      "['name', 'what', 'my', 'is', 'your', 'name']\n"
     ]
    }
   ],
   "source": [
    "ls = \"hello my name is erik serrano what is your name?\".split()\n",
    "choices = random.choices(ls, k=6)\n",
    "print(choices)"
   ]
  },
  {
   "cell_type": "code",
   "execution_count": 7,
   "metadata": {},
   "outputs": [
    {
     "name": "stdout",
     "output_type": "stream",
     "text": [
      "name\n",
      "[0, 5]\n"
     ]
    }
   ],
   "source": [
    "gene_name, counts = Counter(choices).most_common()[0]\n",
    "print(gene_name)\n",
    "\n",
    "dup_index = [i for i,value in enumerate(choices) if value == \"name\"]\n",
    "print(dup_index)"
   ]
  },
  {
   "cell_type": "code",
   "execution_count": 8,
   "metadata": {},
   "outputs": [
    {
     "name": "stdout",
     "output_type": "stream",
     "text": [
      "0.99\n"
     ]
    }
   ],
   "source": [
    "ls  = [0.33, 0.33, 0.33]\n",
    "print(sum(ls))"
   ]
  },
  {
   "cell_type": "code",
   "execution_count": 11,
   "metadata": {},
   "outputs": [],
   "source": [
    "\n",
    "test = 0\n",
    "for i in range(10):\n",
    "\tnew_val = i\n",
    "\ttest = i\n"
   ]
  },
  {
   "cell_type": "code",
   "execution_count": 12,
   "metadata": {},
   "outputs": [
    {
     "data": {
      "text/plain": [
       "9"
      ]
     },
     "execution_count": 12,
     "metadata": {},
     "output_type": "execute_result"
    }
   ],
   "source": [
    "test "
   ]
  },
  {
   "cell_type": "code",
   "execution_count": null,
   "metadata": {},
   "outputs": [],
   "source": []
  }
 ],
 "metadata": {
  "interpreter": {
   "hash": "8f017907b103f04ab54ee75f5ef347d18a8f1e66a833e936df5817e9e1842a1f"
  },
  "kernelspec": {
   "display_name": "Python 3.8.10 64-bit ('datasci': conda)",
   "language": "python",
   "name": "python3"
  },
  "language_info": {
   "codemirror_mode": {
    "name": "ipython",
    "version": 3
   },
   "file_extension": ".py",
   "mimetype": "text/x-python",
   "name": "python",
   "nbconvert_exporter": "python",
   "pygments_lexer": "ipython3",
   "version": "3.8.10"
  },
  "orig_nbformat": 4
 },
 "nbformat": 4,
 "nbformat_minor": 2
}
