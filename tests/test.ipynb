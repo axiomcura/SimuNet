{
 "cells": [
  {
   "cell_type": "code",
   "execution_count": 4,
   "metadata": {},
   "outputs": [],
   "source": [
    "import random\n",
    "from copy import deepcopy"
   ]
  },
  {
   "cell_type": "code",
   "execution_count": 28,
   "metadata": {},
   "outputs": [
    {
     "name": "stdout",
     "output_type": "stream",
     "text": [
      "5.0001\n"
     ]
    }
   ],
   "source": [
    "perc_mut = 0.05\n",
    "\n",
    "selected = []\n",
    "for i in range(1000000):\n",
    "\tif random.random() < perc_mut:\n",
    "\t\tselected.append(True)\n",
    "\n",
    "print((len(selected)/1000000) * 100)"
   ]
  },
  {
   "cell_type": "code",
   "execution_count": 29,
   "metadata": {},
   "outputs": [
    {
     "data": {
      "text/plain": [
       "50001"
      ]
     },
     "execution_count": 29,
     "metadata": {},
     "output_type": "execute_result"
    }
   ],
   "source": [
    "len(selected)"
   ]
  },
  {
   "cell_type": "code",
   "execution_count": 33,
   "metadata": {},
   "outputs": [],
   "source": [
    "ls = [\"Hello\", \"world\", \"como\", \"estas\"]\n",
    "ls[ls.index(\"como\")] = \"how\"\n",
    "\n"
   ]
  },
  {
   "cell_type": "code",
   "execution_count": 5,
   "metadata": {},
   "outputs": [],
   "source": [
    "def ls_ls(mut_ls):\n",
    "\t# deepcopy is required to prevent over writing of the original subnetwork list\n",
    "\t# -- mutations are done by index updating\n",
    "\tsubnetworks = deepcopy(mut_ls)\n",
    "\tfor ls in subnetworks:\n",
    "\t\tmut_network = []\n",
    "\t\tfor idx, elm in enumerate(ls):\n",
    "\t\t\tif idx % 2 == 0:\n",
    "\t\t\t\tls[ls.index(elm)] = \"mutated\"\n",
    "\n",
    "\treturn subnetworks\n",
    "\t\t\n",
    "\t\t"
   ]
  },
  {
   "cell_type": "code",
   "execution_count": 6,
   "metadata": {},
   "outputs": [],
   "source": [
    "test_ls = [[1,2,3], [4,5,6], [10, 10, 10]]\n",
    "new_ls = ls_ls(test_ls) "
   ]
  },
  {
   "cell_type": "code",
   "execution_count": 7,
   "metadata": {},
   "outputs": [
    {
     "name": "stdout",
     "output_type": "stream",
     "text": [
      "[[1, 2, 3], [4, 5, 6], [10, 10, 10]]\n"
     ]
    }
   ],
   "source": [
    "print(test_ls)"
   ]
  },
  {
   "cell_type": "code",
   "execution_count": 8,
   "metadata": {},
   "outputs": [
    {
     "data": {
      "text/plain": [
       "[['mutated', 2, 'mutated'],\n",
       " ['mutated', 5, 'mutated'],\n",
       " ['mutated', 'mutated', 10]]"
      ]
     },
     "execution_count": 8,
     "metadata": {},
     "output_type": "execute_result"
    }
   ],
   "source": [
    "new_ls"
   ]
  },
  {
   "cell_type": "code",
   "execution_count": null,
   "metadata": {},
   "outputs": [],
   "source": []
  }
 ],
 "metadata": {
  "interpreter": {
   "hash": "8f017907b103f04ab54ee75f5ef347d18a8f1e66a833e936df5817e9e1842a1f"
  },
  "kernelspec": {
   "display_name": "Python 3.8.10 64-bit ('datasci': conda)",
   "language": "python",
   "name": "python3"
  },
  "language_info": {
   "codemirror_mode": {
    "name": "ipython",
    "version": 3
   },
   "file_extension": ".py",
   "mimetype": "text/x-python",
   "name": "python",
   "nbconvert_exporter": "python",
   "pygments_lexer": "ipython3",
   "version": "3.8.10"
  },
  "orig_nbformat": 4
 },
 "nbformat": 4,
 "nbformat_minor": 2
}
